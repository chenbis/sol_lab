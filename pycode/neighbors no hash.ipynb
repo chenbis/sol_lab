{
 "cells": [
  {
   "cell_type": "code",
   "execution_count": 1,
   "metadata": {},
   "outputs": [],
   "source": [
    "import pandas as pd\n",
    "import itertools\n",
    "import hashlib\n",
    "from tqdm import tqdm\n",
    "from collections import defaultdict"
   ]
  },
  {
   "cell_type": "code",
   "execution_count": 2,
   "metadata": {},
   "outputs": [],
   "source": [
    "df = pd.read_csv('../files/atchley.csv')\n",
    "df.set_index('amino.acid', inplace=True)\n",
    "atchley_features = df.to_dict(orient='index')\n",
    "for key, value in atchley_features.items():\n",
    "    atchley_features[key] = list(value.values())"
   ]
  },
  {
   "cell_type": "code",
   "execution_count": 5,
   "metadata": {},
   "outputs": [],
   "source": [
    "def generate_mutations(sequence, max_mutations):\n",
    "    yield sequence, 0, \"\"\n",
    "    aa = 'ACDEFGHIKLMNPQRSTVWY'\n",
    "    for i in range(1, max_mutations + 1):\n",
    "        for positions in itertools.combinations(range(len(sequence)), i):\n",
    "            for new_aas in itertools.product(aa, repeat=i):\n",
    "                mutated_sequence = list(sequence)\n",
    "                for pos, new_aa in zip(positions, new_aas):\n",
    "                    mutated_sequence[pos] = new_aa\n",
    "                mutated_sequence = \"\".join(mutated_sequence)\n",
    "                if mutated_sequence != sequence:\n",
    "                    yield mutated_sequence, 0, sequence"
   ]
  },
  {
   "cell_type": "code",
   "execution_count": 6,
   "metadata": {},
   "outputs": [],
   "source": [
    "def truncate_sequences(sequences, right, left):\n",
    "    middle_strings = []\n",
    "    for sequence in tqdm(sequences, \"truncating sequences\"):\n",
    "        start_index = max(0, len(sequence)//2 - left)\n",
    "        end_index = min(len(sequence)//2 + right, len(sequence))\n",
    "        middle_strings.append(sequence[start_index:end_index])\n",
    "    return middle_strings"
   ]
  },
  {
   "cell_type": "code",
   "execution_count": 7,
   "metadata": {},
   "outputs": [],
   "source": [
    "sequence_map = {}\n",
    "\n",
    "# 1000 sequences\n",
    "sequences_csv = '../files/forchen_F_26L.csv'\n",
    "sequences_header = \"cdr3_amino_acid\"\n",
    "\n",
    "# # 40K sequences\n",
    "# sequences_csv = '../files/for_chen_B.csv'\n",
    "# sequences_header = \"CDR3.aa\"\n",
    "\n",
    "# # 1M sequences\n",
    "# sequences_csv = \"../random_sequences.csv\"\n",
    "# sequences_header = \"sequences\"\n",
    "\n",
    "mutations_df = pd.DataFrame(columns=['mutation','mutation_hash' 'original'])\n",
    "\n",
    "sequences_df = pd.read_csv(sequences_csv)\n",
    "sequences_set = set(sequences_df[sequences_header].unique())"
   ]
  },
  {
   "cell_type": "code",
   "execution_count": 8,
   "metadata": {},
   "outputs": [
    {
     "name": "stderr",
     "output_type": "stream",
     "text": [
      "truncating sequences: 100%|██████████| 1178/1178 [00:00<00:00, 1280023.35it/s]\n"
     ]
    }
   ],
   "source": [
    "sequences_set = truncate_sequences(sequences_set, 4, 4)"
   ]
  },
  {
   "cell_type": "code",
   "execution_count": 21,
   "metadata": {},
   "outputs": [
    {
     "name": "stderr",
     "output_type": "stream",
     "text": [
      "generating mutations:   8%|▊         | 99/1178 [00:43<14:17,  1.26it/s]"
     ]
    },
    {
     "ename": "",
     "evalue": "",
     "output_type": "error",
     "traceback": [
      "\u001b[1;31mThe Kernel crashed while executing code in the current cell or a previous cell. \n",
      "\u001b[1;31mPlease review the code in the cell(s) to identify a possible cause of the failure. \n",
      "\u001b[1;31mClick <a href='https://aka.ms/vscodeJupyterKernelCrash'>here</a> for more info. \n",
      "\u001b[1;31mView Jupyter <a href='command:jupyter.viewOutput'>log</a> for further details."
     ]
    }
   ],
   "source": [
    "max_mutations = 3\n",
    "\n",
    "mutations_lst = []\n",
    "\n",
    "for seq in tqdm(sequences_set, desc=\"generating mutations\"):\n",
    "    mutations_lst.extend(generate_mutations(seq, max_mutations))"
   ]
  },
  {
   "cell_type": "code",
   "execution_count": 10,
   "metadata": {},
   "outputs": [],
   "source": [
    "mutations_df = pd.DataFrame(mutations_lst, columns=['mut', 'mut_hash', 'org'])"
   ]
  },
  {
   "cell_type": "code",
   "execution_count": 11,
   "metadata": {},
   "outputs": [],
   "source": [
    "distances_csv = \"../distance_matrix.csv\"\n",
    "distances_df = pd.read_csv(distances_csv, index_col=0)\n",
    "distances_dict = {(aa1, aa2): distances_df.loc[aa1, aa2] for aa1 in distances_df.index for aa2 in distances_df.columns}"
   ]
  },
  {
   "cell_type": "code",
   "execution_count": 12,
   "metadata": {},
   "outputs": [],
   "source": [
    "couples = defaultdict(list)\n",
    "mask_org_empty = mutations_df['org'] == \"\"\n",
    "duplicates_with_empty_org = mutations_df[mutations_df.duplicated(['mut'], keep=False) & mask_org_empty]\n",
    "filtered_df = mutations_df[mutations_df['mut'].isin(duplicates_with_empty_org['mut'])]"
   ]
  },
  {
   "cell_type": "code",
   "execution_count": 13,
   "metadata": {},
   "outputs": [
    {
     "name": "stderr",
     "output_type": "stream",
     "text": [
      "finding duplicates: 100%|██████████| 1197/1197 [00:00<00:00, 75884.31it/s]\n"
     ]
    }
   ],
   "source": [
    "\n",
    "for index, row in tqdm(list(filtered_df.iterrows()), \"finding duplicates\"):\n",
    "    if row[\"org\"] != \"\":\n",
    "        mut = row[\"mut\"]\n",
    "        seq = row[\"org\"]\n",
    "        couples[seq].append([mut, sum(distances_dict[(aa1, aa2)] for aa1, aa2 in zip(seq, mut))])\n"
   ]
  },
  {
   "cell_type": "code",
   "execution_count": 14,
   "metadata": {},
   "outputs": [],
   "source": [
    "couples = {key: sorted(value, key=lambda x: x[1]) for key, value in couples.items()}"
   ]
  },
  {
   "cell_type": "code",
   "execution_count": 12,
   "metadata": {},
   "outputs": [],
   "source": [
    "import json\n",
    "\n",
    "with open(\"../couples.json\") as json_file:\n",
    "    couples = json.load(json_file)\n"
   ]
  },
  {
   "cell_type": "code",
   "execution_count": 13,
   "metadata": {},
   "outputs": [],
   "source": [
    "import networkx as nx\n",
    "import matplotlib.pyplot as plt\n",
    "import matplotlib.colors as mcolors\n",
    "\n",
    "max_neig = 1\n",
    "# Create a graph\n",
    "G = nx.Graph()\n",
    "\n",
    "# Add edges to the graph based on the dictionary\n",
    "for node, neighbors in couples.items():\n",
    "    count = 0\n",
    "    for neighbor, weight in neighbors:\n",
    "        if count < max_neig:\n",
    "            G.add_edge(node, neighbor, weight=weight)\n",
    "            count += 1"
   ]
  },
  {
   "cell_type": "code",
   "execution_count": 14,
   "metadata": {},
   "outputs": [],
   "source": [
    "def get_edges_colors(G):\n",
    "    # color edegs according to their connection, the greener the color the stringer the connection\n",
    "    # Create a colormap ranging from red to green\n",
    "    cmap = plt.cm.RdYlGn_r\n",
    "\n",
    "    # Find the maximum and minimum weights\n",
    "    max_weight = max([d['weight'] for _, _, d in G.edges(data=True)])\n",
    "    min_weight = min([d['weight'] for _, _, d in G.edges(data=True)])\n",
    "\n",
    "    # Normalize the weights\n",
    "    norm = mcolors.Normalize(vmin=min_weight, vmax=max_weight)\n",
    "\n",
    "    # Create a color mapping based on edge weights\n",
    "    edge_colors = [cmap(norm(d['weight'])) for _, _, d in G.edges(data=True)]\n",
    "    return edge_colors\n",
    "    "
   ]
  },
  {
   "cell_type": "markdown",
   "metadata": {},
   "source": [
    "### Visualize the whole graph"
   ]
  },
  {
   "cell_type": "code",
   "execution_count": 15,
   "metadata": {},
   "outputs": [],
   "source": [
    "\n",
    "# edge_colors = get_edges_colors(G)\n",
    "# plt.figure(figsize=(8, 8))\n",
    "# pos = nx.spring_layout(G, k=0.3, iterations=20)\n",
    "# nx.draw_networkx_nodes(G, pos, node_size=300, node_color='skyblue')\n",
    "# nx.draw_networkx_edges(G, pos, edge_color=edge_colors, width=2)\n",
    "# nx.draw_networkx_labels(G, pos, font_size=8)\n",
    "# plt.title('Amino Acid Sequence Graph (Highest Degree Nodes and Their Connections)')\n",
    "# plt.axis('off')  # Turn off axis\n",
    "# plt.savefig('trunc seq whole graph.png')\n",
    "# plt.show()"
   ]
  },
  {
   "cell_type": "markdown",
   "metadata": {},
   "source": [
    "### Highest degree node"
   ]
  },
  {
   "cell_type": "code",
   "execution_count": 16,
   "metadata": {},
   "outputs": [
    {
     "ename": "ValueError",
     "evalue": "max() arg is an empty sequence",
     "output_type": "error",
     "traceback": [
      "\u001b[0;31m---------------------------------------------------------------------------\u001b[0m",
      "\u001b[0;31mValueError\u001b[0m                                Traceback (most recent call last)",
      "Cell \u001b[0;32mIn[16], line 1\u001b[0m\n\u001b[0;32m----> 1\u001b[0m max_degree \u001b[38;5;241m=\u001b[39m \u001b[38;5;28;43mmax\u001b[39;49m\u001b[43m(\u001b[49m\u001b[38;5;28;43mdict\u001b[39;49m\u001b[43m(\u001b[49m\u001b[43mG\u001b[49m\u001b[38;5;241;43m.\u001b[39;49m\u001b[43mdegree\u001b[49m\u001b[43m(\u001b[49m\u001b[43m)\u001b[49m\u001b[43m)\u001b[49m\u001b[38;5;241;43m.\u001b[39;49m\u001b[43mvalues\u001b[49m\u001b[43m(\u001b[49m\u001b[43m)\u001b[49m\u001b[43m)\u001b[49m\n\u001b[1;32m      2\u001b[0m highest_degree_nodes \u001b[38;5;241m=\u001b[39m [node \u001b[38;5;28;01mfor\u001b[39;00m node, degree \u001b[38;5;129;01min\u001b[39;00m \u001b[38;5;28mdict\u001b[39m(G\u001b[38;5;241m.\u001b[39mdegree())\u001b[38;5;241m.\u001b[39mitems() \u001b[38;5;28;01mif\u001b[39;00m degree \u001b[38;5;241m==\u001b[39m max_degree]\n\u001b[1;32m      4\u001b[0m \u001b[38;5;66;03m# Create a subgraph with only the highest degree nodes and their neighbors\u001b[39;00m\n",
      "\u001b[0;31mValueError\u001b[0m: max() arg is an empty sequence"
     ]
    }
   ],
   "source": [
    "max_degree = max(dict(G.degree()).values())\n",
    "highest_degree_nodes = [node for node, degree in dict(G.degree()).items() if degree == max_degree]\n",
    "\n",
    "# Create a subgraph with only the highest degree nodes and their neighbors\n",
    "highest_degree_neighbors = set()\n",
    "for node in highest_degree_nodes:\n",
    "    highest_degree_neighbors.update(G.neighbors(node))\n",
    "highest_degree_neighbors.update(highest_degree_nodes)\n",
    "H = G.subgraph(highest_degree_neighbors)\n",
    "\n",
    "edge_colors = get_edges_colors(H)\n",
    "\n",
    "# Visualize the graph\n",
    "plt.figure(figsize=(8, 8))\n",
    "pos = nx.spring_layout(H, k=0.3, iterations=20)\n",
    "nx.draw_networkx_nodes(H, pos, node_size=300, node_color='skyblue')\n",
    "nx.draw_networkx_edges(H, pos, edge_color=edge_colors, width=2)\n",
    "nx.draw_networkx_labels(H, pos, font_size=8)\n",
    "plt.title('Amino Acid Sequence Graph (Highest Degree Nodes and Their Connections)')\n",
    "plt.axis('off')  # Turn off axis\n",
    "plt.savefig('degree.png')\n",
    "plt.show()\n"
   ]
  },
  {
   "cell_type": "markdown",
   "metadata": {},
   "source": [
    "### Longest path"
   ]
  },
  {
   "cell_type": "code",
   "execution_count": null,
   "metadata": {},
   "outputs": [
    {
     "data": {
      "image/png": "[encoded data removed]",
      "text/plain": [
       "<Figure size 800x800 with 1 Axes>"
      ]
     },
     "metadata": {},
     "output_type": "display_data"
    }
   ],
   "source": [
    "# Find the longest path in the graph\n",
    "longest_path = max(nx.all_pairs_shortest_path_length(G), key=lambda x: max(x[1].values()))\n",
    "\n",
    "# Extract nodes involved in the longest path\n",
    "longest_path_nodes = longest_path[1].keys()\n",
    "\n",
    "# Create a subgraph with nodes involved in the longest path\n",
    "H = G.subgraph(longest_path_nodes)\n",
    "\n",
    "edge_colors = get_edges_colors(H)\n",
    "\n",
    "\n",
    "# Visualize the graph\n",
    "plt.figure(figsize=(8, 8))\n",
    "pos = nx.spring_layout(H, k=0.3, iterations=20)\n",
    "nx.draw_networkx_nodes(H, pos, node_size=300, node_color='lightgreen')\n",
    "nx.draw_networkx_edges(H, pos, edge_color=edge_colors, width=2)\n",
    "nx.draw_networkx_labels(H, pos, font_size=8)\n",
    "plt.title('Amino Acid Sequence Graph (Longest Connection)')\n",
    "plt.axis('off')  # Turn off axis\n",
    "plt.savefig('longest_path.png')\n",
    "plt.show()"
   ]
  }
 ],
 "metadata": {
  "kernelspec": {
   "display_name": "Python 3",
   "language": "python",
   "name": "python3"
  },
  "language_info": {
   "codemirror_mode": {
    "name": "ipython",
    "version": 3
   },
   "file_extension": ".py",
   "mimetype": "text/x-python",
   "name": "python",
   "nbconvert_exporter": "python",
   "pygments_lexer": "ipython3",
   "version": "3.10.12"
  }
 },
 "nbformat": 4,
 "nbformat_minor": 2
}

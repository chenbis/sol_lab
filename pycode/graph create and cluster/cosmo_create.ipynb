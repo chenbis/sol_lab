{
 "cells": [
  {
   "cell_type": "code",
   "execution_count": 11,
   "metadata": {},
   "outputs": [],
   "source": [
    "import json\n",
    "import networkx as nx\n",
    "import csv\n"
   ]
  },
  {
   "cell_type": "code",
   "execution_count": 12,
   "metadata": {},
   "outputs": [],
   "source": [
    "# Load the graph from the JSON file\n",
    "with open(\"output/20241216_125021/neighbors.json\") as json_file:\n",
    "    couples = json.load(json_file)"
   ]
  },
  {
   "cell_type": "code",
   "execution_count": 13,
   "metadata": {},
   "outputs": [],
   "source": [
    "G = nx.from_dict_of_dicts(couples)"
   ]
  },
  {
   "cell_type": "code",
   "execution_count": 14,
   "metadata": {},
   "outputs": [],
   "source": [
    "# Compute the minimum spanning tree using Kruskal's or Prim's algorithm\n",
    "mst = nx.minimum_spanning_tree(G, weight='weight')"
   ]
  },
  {
   "cell_type": "code",
   "execution_count": 15,
   "metadata": {},
   "outputs": [
    {
     "name": "stdout",
     "output_type": "stream",
     "text": [
      "Graph has been saved to cosmo_graph1.csv\n"
     ]
    }
   ],
   "source": [
    "# Function to save graph to CSV\n",
    "def graph_to_csv(G, output_file):\n",
    "    with open(output_file, mode='w', newline='') as file:\n",
    "        writer = csv.writer(file)\n",
    "        writer.writerow(['source', 'target', 'weight', \"distance\"])\n",
    "        \n",
    "        for u, v, data in G.edges(data=True):\n",
    "            writer.writerow([u, v, data.get('weight', 1), data.get('dist', 1)])\n",
    "\n",
    "# Save the MST to CSV\n",
    "output_file = \"cosmo_graph1.csv\"\n",
    "graph_to_csv(mst, output_file)\n",
    "print(f\"Graph has been saved to {output_file}\")"
   ]
  }
 ],
 "metadata": {
  "kernelspec": {
   "display_name": "Python 3",
   "language": "python",
   "name": "python3"
  },
  "language_info": {
   "codemirror_mode": {
    "name": "ipython",
    "version": 3
   },
   "file_extension": ".py",
   "mimetype": "text/x-python",
   "name": "python",
   "nbconvert_exporter": "python",
   "pygments_lexer": "ipython3",
   "version": "3.10.12"
  }
 },
 "nbformat": 4,
 "nbformat_minor": 4
}

{
 "cells": [
  {
   "cell_type": "markdown",
   "metadata": {},
   "source": [
    "### Creating distance matrix with Mojo"
   ]
  },
  {
   "cell_type": "code",
   "execution_count": null,
   "metadata": {},
   "outputs": [],
   "source": [
    "from tensor import Tensor, TensorShape\n",
    "from random import rand\n",
    "from math import sqrt"
   ]
  },
  {
   "cell_type": "code",
   "execution_count": null,
   "metadata": {},
   "outputs": [],
   "source": [
    "fn euclidean_dist(a: Tensor[DType.float32], b: Tensor[DType.float32]) -> Float32:\n",
    "    var s: Float32 = 0.0\n",
    "    let n = a.num_elements()\n",
    "    for i in range(n):\n",
    "        let dist = a[i] - b[i]\n",
    "        s += dist*dist\n",
    "    return sqrt(s)"
   ]
  },
  {
   "cell_type": "code",
   "execution_count": null,
   "metadata": {},
   "outputs": [],
   "source": [
    "let atchley_dim = 5\n",
    "\n",
    "let tensorA = Tensor[DType.float32](\n",
    "    TensorShape(atchley_dim),\n",
    "    -0.591,-1.302,-0.733,1.57,-0.146\n",
    ")\n",
    "\n",
    "let tensorB = Tensor[DType.float32](\n",
    "    TensorShape(atchley_dim),\n",
    "    -1.343,0.465,-0.862,-1.02,-0.255\n",
    ")\n",
    "\n",
    "\n",
    "let result = euclidean_dist(tensorA, tensorB)"
   ]
  },
  {
   "cell_type": "code",
   "execution_count": null,
   "metadata": {},
   "outputs": [],
   "source": [
    "print(result)"
   ]
  },
  {
   "cell_type": "code",
   "execution_count": null,
   "metadata": {},
   "outputs": [],
   "source": [
    "from python import Python\n",
    "let pd = Python.import_module(\"pandas\")\n"
   ]
  },
  {
   "cell_type": "code",
   "execution_count": null,
   "metadata": {},
   "outputs": [],
   "source": [
    "let df = pd.read_csv('./files/atchley.csv')\n"
   ]
  },
  {
   "cell_type": "markdown",
   "metadata": {},
   "source": [
    "### Finding neighbors"
   ]
  },
  {
   "cell_type": "code",
   "execution_count": 1,
   "metadata": {},
   "outputs": [],
   "source": [
    "from python import Python\n",
    "let pd = Python.import_module(\"pandas\")\n",
    "let nx = Python.import_module(\"networkx\")\n",
    "let plt = Python.import_module(\"matplotlib.pyplot\")\n",
    "\n"
   ]
  },
  {
   "cell_type": "code",
   "execution_count": 2,
   "metadata": {},
   "outputs": [
    {
     "name": "stderr",
     "output_type": "stream",
     "text": [
      "error: \u001b[0;1;31m\u001b[1mExpression [2]:2:33: \u001b[0m\u001b[1minvalid call to '__call__': unexpected keyword argument: 'index_col'\n",
      "\u001b[0mdistance_matrix_df = pd.read_csv(\"../distance_matrix.csv\", index_col=0)\n",
      "\u001b[0;1;32m                     ~~~~~~~~~~~^~~~~~~~~~~~~~~~~~~~~~~~~~~~~~~~~~~~~~~\n",
      "\u001b[0m\u001b[0m\n",
      "\u001b[0;1;30m\u001b[1mExpression [0]:1:1: \u001b[0m\u001b[1mfunction declared here\n",
      "\u001b[0mvar __lldb_repl_python__ = __mojo_repl_Python()\n",
      "\u001b[0;1;32m^\n",
      "\u001b[0m\u001b[0m\n",
      "error: \u001b[0;1;31m\u001b[1mExpression [2]:7:13: \u001b[0m\u001b[1mTODO: cannot emit dictionary literals yet\n",
      "\u001b[0mneighbors = {}\n",
      "\u001b[0;1;32m            ^~\n",
      "\u001b[0m\u001b[0m\n",
      "expression failed to parse (no further compiler diagnostics)"
     ]
    }
   ],
   "source": [
    "# Read the distance matrix from CSV file\n",
    "distance_matrix_df = pd.read_csv(\"../distance_matrix.csv\", index_col=0)\n",
    "\n",
    "# Example amino acid sequence (replace this with your actual sequence)\n",
    "sequences = pd.read_csv('../files/forchen_F_26L.csv')[\"cdr3_amino_acid\"].tolist()\n",
    "\n",
    "neighbors = {}\n"
   ]
  }
 ],
 "metadata": {
  "kernelspec": {
   "display_name": "Mojo",
   "language": "mojo",
   "name": "mojo-jupyter-kernel"
  },
  "language_info": {
   "codemirror_mode": {
    "name": "mojo"
   },
   "file_extension": ".mojo",
   "mimetype": "text/x-mojo",
   "name": "mojo"
  }
 },
 "nbformat": 4,
 "nbformat_minor": 2
}

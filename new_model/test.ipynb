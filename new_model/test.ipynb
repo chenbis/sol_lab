{
 "cells": [
  {
   "cell_type": "code",
   "execution_count": null,
   "metadata": {},
   "outputs": [],
   "source": [
    "import pandas as pd\n",
    "import torch\n",
    "from torch.utils.data import Dataset, DataLoader\n",
    "\n",
    "\n",
    "df = pd.read_csv(\"../files/atchley.csv\")\n",
    "\n",
    "# PyTorch Dataset\n",
    "class AminoAcidDataset(Dataset):\n",
    "    def __init__(self, dataframe):\n",
    "        self.dataframe = dataframe\n",
    "        self.features = dataframe.iloc[:, 1:].values  # Atchley features\n",
    "        self.aa_to_features_dict = self.dataframe.set_index('amino.acid').T.to_dict('list')\n",
    "    \n",
    "    def __len__(self):\n",
    "        return len(self.dataframe)\n",
    "    \n",
    "    def __getitem__(self, aa):\n",
    "        if aa in self.aa_to_features_dict:\n",
    "            return self.aa_to_features_dict[aa]\n",
    "        else:\n",
    "            raise KeyError(f\"Amino acid '{aa}' not found in dataset.\")\n",
    "\n",
    "\n",
    "# Create Dataset and DataLoader\n",
    "dataset = AminoAcidDataset(df)\n",
    "dataloader = DataLoader(dataset, batch_size=2, shuffle=True)\n"
   ]
  },
  {
   "cell_type": "code",
   "execution_count": 50,
   "metadata": {},
   "outputs": [
    {
     "ename": "KeyError",
     "evalue": "'B'",
     "output_type": "error",
     "traceback": [
      "\u001b[0;31m---------------------------------------------------------------------------\u001b[0m",
      "\u001b[0;31mKeyError\u001b[0m                                  Traceback (most recent call last)",
      "Cell \u001b[0;32mIn[50], line 1\u001b[0m\n\u001b[0;32m----> 1\u001b[0m dataset[\u001b[38;5;124m\"\u001b[39m\u001b[38;5;124mB\u001b[39m\u001b[38;5;124m\"\u001b[39m]\n",
      "Cell \u001b[0;32mIn[48], line 19\u001b[0m, in \u001b[0;36mAminoAcidDataset.__getitem__\u001b[0;34m(self, aa)\u001b[0m\n\u001b[1;32m     18\u001b[0m \u001b[38;5;28;01mdef\u001b[39;00m \u001b[38;5;21m__getitem__\u001b[39m(\u001b[38;5;28mself\u001b[39m, aa):\n\u001b[0;32m---> 19\u001b[0m     \u001b[38;5;28;01mreturn\u001b[39;00m \u001b[38;5;28mself\u001b[39m\u001b[38;5;241m.\u001b[39maa_to_features_dict[aa]\n",
      "\u001b[0;31mKeyError\u001b[0m: 'B'"
     ]
    }
   ],
   "source": [
    "dataset[\"B\"]"
   ]
  },
  {
   "cell_type": "code",
   "execution_count": 4,
   "metadata": {},
   "outputs": [],
   "source": [
    "import geoopt\n",
    "import torch.nn as nn\n",
    "# import geoopt.manifolds.poincare.math as pmath\n",
    "\n",
    "class HyperbolicNN(nn.Module):\n",
    "    def __init__(self, input_dim, embedding_dim):\n",
    "        super(HyperbolicNN, self).__init__()\n",
    "        self.fc = nn.Linear(input_dim, embedding_dim)\n",
    "        self.manifold = geoopt.PoincareBall()  # Poincaré ball for hyperbolic geometry\n",
    "    \n",
    "    def forward(self, x):\n",
    "        x = self.fc(x)\n",
    "        x = self.manifold.expmap0(x)  # Exponential map from Euclidean to hyperbolic space\n",
    "        return x\n",
    "\n",
    "# Initialize the model\n",
    "input_dim = 5  # Number of Atchley features\n",
    "embedding_dim = 2  # Dimension of hyperbolic embedding\n",
    "model = HyperbolicNN(input_dim, embedding_dim)\n"
   ]
  },
  {
   "cell_type": "code",
   "execution_count": 5,
   "metadata": {},
   "outputs": [
    {
     "name": "stdout",
     "output_type": "stream",
     "text": [
      "Epoch 1, Loss: 0.28650596737861633\n",
      "Epoch 2, Loss: 0.11376485973596573\n",
      "Epoch 3, Loss: 0.06419456750154495\n",
      "Epoch 4, Loss: 0.04249171167612076\n",
      "Epoch 5, Loss: 0.042479388415813446\n",
      "Epoch 6, Loss: 0.040920890867710114\n",
      "Epoch 7, Loss: 0.030948229134082794\n",
      "Epoch 8, Loss: 0.023223459720611572\n",
      "Epoch 9, Loss: 0.042069703340530396\n",
      "Epoch 10, Loss: 0.015929531306028366\n"
     ]
    }
   ],
   "source": [
    "optimizer = torch.optim.Adam(model.parameters(), lr=0.01)\n",
    "loss_fn = nn.MSELoss()\n",
    "\n",
    "# Dummy target embeddings (you can modify this according to your task)\n",
    "targets = torch.tensor([[0.1, 0.2], [-0.1, -0.2], [0.3, 0.4], [-0.3, -0.4]], dtype=torch.float32)\n",
    "\n",
    "for epoch in range(10):\n",
    "    for _, features in dataloader:\n",
    "        optimizer.zero_grad()\n",
    "        \n",
    "        # Forward pass: features to hyperbolic space\n",
    "        embeddings = model(features)\n",
    "        \n",
    "        # Compute loss (using dummy targets here)\n",
    "        loss = loss_fn(embeddings, targets[:embeddings.size(0)])  # Adjust target size\n",
    "        \n",
    "        # Backward pass\n",
    "        loss.backward()\n",
    "        optimizer.step()\n",
    "\n",
    "    print(f\"Epoch {epoch+1}, Loss: {loss.item()}\")\n"
   ]
  },
  {
   "cell_type": "code",
   "execution_count": null,
   "metadata": {},
   "outputs": [],
   "source": [
    "\n",
    "# Example of calculating distances between amino acid embeddings\n",
    "with torch.no_grad():\n",
    "    for _, features in dataloader:\n",
    "        embeddings = model(features)\n",
    "        print(\"Hyperbolic Embeddings:\", embeddings)\n",
    "\n",
    "        # Calculate distances between embeddings\n",
    "        for i in range(embeddings.size(0)):\n",
    "            for j in range(i + 1, embeddings.size(0)):\n",
    "                # Calculate the distance directly with the manifold object (no need for 'pmath')\n",
    "                dist = model.manifold.dist(embeddings[i], embeddings[j])\n",
    "                print(f\"Distance between amino acid {i} and {j}: {dist.item()}\")\n"
   ]
  },
  {
   "cell_type": "code",
   "execution_count": 23,
   "metadata": {},
   "outputs": [
    {
     "ename": "AttributeError",
     "evalue": "'AminoAcidDataset' object has no attribute 'features_dict'",
     "output_type": "error",
     "traceback": [
      "\u001b[0;31m---------------------------------------------------------------------------\u001b[0m",
      "\u001b[0;31mAttributeError\u001b[0m                            Traceback (most recent call last)",
      "Cell \u001b[0;32mIn[23], line 1\u001b[0m\n\u001b[0;32m----> 1\u001b[0m dataset[\u001b[38;5;124m\"\u001b[39m\u001b[38;5;124mA\u001b[39m\u001b[38;5;124m\"\u001b[39m]\n",
      "Cell \u001b[0;32mIn[22], line 18\u001b[0m, in \u001b[0;36mAminoAcidDataset.__getitem__\u001b[0;34m(self, amino_acid)\u001b[0m\n\u001b[1;32m     17\u001b[0m \u001b[38;5;28;01mdef\u001b[39;00m \u001b[38;5;21m__getitem__\u001b[39m(\u001b[38;5;28mself\u001b[39m, amino_acid):\n\u001b[0;32m---> 18\u001b[0m     \u001b[38;5;28;01mif\u001b[39;00m amino_acid \u001b[38;5;129;01min\u001b[39;00m \u001b[38;5;28mself\u001b[39m\u001b[38;5;241m.\u001b[39mfeatures_dict:\n\u001b[1;32m     19\u001b[0m         \u001b[38;5;28;01mreturn\u001b[39;00m \u001b[38;5;28mself\u001b[39m\u001b[38;5;241m.\u001b[39mfeatures_dict[amino_acid]\n\u001b[1;32m     20\u001b[0m     \u001b[38;5;28;01melse\u001b[39;00m:\n",
      "\u001b[0;31mAttributeError\u001b[0m: 'AminoAcidDataset' object has no attribute 'features_dict'"
     ]
    }
   ],
   "source": [
    "dataset[\"A\"]"
   ]
  },
  {
   "cell_type": "code",
   "execution_count": null,
   "metadata": {},
   "outputs": [],
   "source": [
    "import torch\n",
    "\n",
    "# Amino acid sequences\n",
    "sequence1 = \"AAA\"\n",
    "sequence2 = \"AAC\"\n",
    "\n",
    "# Convert sequences to Atchley factors\n",
    "sequence1_features = torch.tensor([atchley_factors[aa] for aa in sequence1], dtype=torch.float32)\n",
    "sequence2_features = torch.tensor([atchley_factors[aa] for aa in sequence2], dtype=torch.float32)\n"
   ]
  },
  {
   "cell_type": "code",
   "execution_count": 4,
   "metadata": {},
   "outputs": [],
   "source": [
    "from collections import defaultdict\n",
    "\n",
    "def make_symmetric_neighbors(neighbors):\n",
    "    combined = defaultdict(set, neighbors)\n",
    "    for key, values in neighbors.items():\n",
    "        for seq, value in values:\n",
    "            combined[seq].add((key, value))  # Add the inverted edge\n",
    "    return combined"
   ]
  },
  {
   "cell_type": "code",
   "execution_count": 5,
   "metadata": {},
   "outputs": [
    {
     "data": {
      "text/plain": [
       "defaultdict(set,\n",
       "            {'AAA': {('BBB', 3), ('CAC', 2)},\n",
       "             'BBB': {('AAA', 3), ('CAC', 3), ('DDD', 3)},\n",
       "             'EEE': {('FFF', 3)},\n",
       "             'CAC': {('AAA', 2), ('BBB', 3)},\n",
       "             'DDD': {('BBB', 3)},\n",
       "             'FFF': {('EEE', 3)}})"
      ]
     },
     "execution_count": 5,
     "metadata": {},
     "output_type": "execute_result"
    }
   ],
   "source": [
    "d = {\n",
    "    \"AAA\":{(\"BBB\", 3), (\"CAC\", 2)},\n",
    "    \"BBB\":{(\"CAC\", 3), (\"DDD\", 3)},\n",
    "    \"EEE\":{(\"FFF\", 3)}\n",
    "\n",
    "}\n",
    "make_symmetric_neighbors(d)"
   ]
  }
 ],
 "metadata": {
  "kernelspec": {
   "display_name": "base",
   "language": "python",
   "name": "python3"
  },
  "language_info": {
   "codemirror_mode": {
    "name": "ipython",
    "version": 3
   },
   "file_extension": ".py",
   "mimetype": "text/x-python",
   "name": "python",
   "nbconvert_exporter": "python",
   "pygments_lexer": "ipython3",
   "version": "3.12.3"
  }
 },
 "nbformat": 4,
 "nbformat_minor": 2
}

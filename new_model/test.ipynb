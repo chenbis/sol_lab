{
 "cells": [
  {
   "cell_type": "code",
   "execution_count": 1,
   "metadata": {},
   "outputs": [],
   "source": [
    "import numpy as np\n",
    "import pandas as pd"
   ]
  },
  {
   "cell_type": "code",
   "execution_count": 4,
   "metadata": {},
   "outputs": [],
   "source": [
    "atchley_df = pd.read_csv(\"../files/atchley.csv\")\n",
    "\n",
    "# Map amino acids to their feature vectors\n",
    "atchley_dict = atchley_df.set_index('amino.acid').T.to_dict('list')"
   ]
  },
  {
   "cell_type": "code",
   "execution_count": 8,
   "metadata": {},
   "outputs": [
    {
     "name": "stdout",
     "output_type": "stream",
     "text": [
      "Hyperbolic Distance between the sequences: 1.6841664653593127\n"
     ]
    }
   ],
   "source": [
    "\n",
    "# Function to calculate the Poincaré distance in hyperbolic space\n",
    "def poincare_distance(u, v):\n",
    "    # Convert vectors to numpy arrays\n",
    "    u = np.array(u)\n",
    "    v = np.array(v)\n",
    "    \n",
    "    # Squared Euclidean distance between u and v\n",
    "    euclidean_dist_sq = np.sum((u - v) ** 2)\n",
    "    \n",
    "    # Squared norms of u and v\n",
    "    norm_u_sq = np.sum(u ** 2)\n",
    "    norm_v_sq = np.sum(v ** 2)\n",
    "    \n",
    "    # Compute the Poincaré distance\n",
    "    dist = np.arccosh(1 + 2 * euclidean_dist_sq / ((1 - norm_u_sq) * (1 - norm_v_sq)))\n",
    "    \n",
    "    return dist\n",
    "\n",
    "# Function to calculate sequence distance based on hyperbolic embeddings\n",
    "def hyperbolic_sequence_distance(seq1, seq2, atchley_dict):\n",
    "    total_distance = 0\n",
    "    for a1, a2 in zip(seq1, seq2):\n",
    "        if a1 in atchley_dict and a2 in atchley_dict:\n",
    "            total_distance += poincare_distance(atchley_dict[a1], atchley_dict[a2])\n",
    "    return total_distance\n",
    "\n",
    "# Example sequences\n",
    "seq1 = \"AA\"\n",
    "seq2 = \"AC\"\n",
    "\n",
    "# Calculate distance between sequences in hyperbolic space\n",
    "distance = hyperbolic_sequence_distance(seq1, seq2, atchley_dict)\n",
    "print(f\"Hyperbolic Distance between the sequences: {distance}\")\n"
   ]
  }
 ],
 "metadata": {
  "kernelspec": {
   "display_name": "base",
   "language": "python",
   "name": "python3"
  },
  "language_info": {
   "codemirror_mode": {
    "name": "ipython",
    "version": 3
   },
   "file_extension": ".py",
   "mimetype": "text/x-python",
   "name": "python",
   "nbconvert_exporter": "python",
   "pygments_lexer": "ipython3",
   "version": "3.11.7"
  }
 },
 "nbformat": 4,
 "nbformat_minor": 2
}

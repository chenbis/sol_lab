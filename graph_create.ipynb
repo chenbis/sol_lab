{
 "cells": [
  {
   "cell_type": "code",
   "execution_count": 1,
   "metadata": {},
   "outputs": [],
   "source": [
    "import json\n",
    "import networkx as nx\n",
    "import matplotlib.pyplot as plt\n",
    "import matplotlib.colors as mcolors"
   ]
  },
  {
   "cell_type": "code",
   "execution_count": 2,
   "metadata": {},
   "outputs": [],
   "source": [
    "with open(\"couples.json\") as json_file:\n",
    "    couples = json.load(json_file)"
   ]
  },
  {
   "cell_type": "code",
   "execution_count": 3,
   "metadata": {},
   "outputs": [],
   "source": [
    "max_neig = 1\n",
    "# Create a graph\n",
    "G = nx.Graph()\n",
    "\n",
    "# Add edges to the graph based on the dictionary\n",
    "for node, neighbors in couples.items():\n",
    "    count = 0\n",
    "    for neighbor, weight in neighbors:\n",
    "        if count < max_neig:\n",
    "            G.add_edge(node, neighbor, weight=weight)\n",
    "            count += 1"
   ]
  },
  {
   "cell_type": "code",
   "execution_count": 4,
   "metadata": {},
   "outputs": [],
   "source": [
    "def get_edges_colors(G):\n",
    "    # color edegs according to their connection, the greener the color the stringer the connection\n",
    "    # Create a colormap ranging from red to green\n",
    "    cmap = plt.cm.RdYlGn_r\n",
    "\n",
    "    # Find the maximum and minimum weights\n",
    "    max_weight = max([d['weight'] for _, _, d in G.edges(data=True)])\n",
    "    min_weight = min([d['weight'] for _, _, d in G.edges(data=True)])\n",
    "\n",
    "    # Normalize the weights\n",
    "    norm = mcolors.Normalize(vmin=min_weight, vmax=max_weight)\n",
    "\n",
    "    # Create a color mapping based on edge weights\n",
    "    edge_colors = [cmap(norm(d['weight'])) for _, _, d in G.edges(data=True)]\n",
    "    return edge_colors\n",
    "    "
   ]
  },
  {
   "cell_type": "markdown",
   "metadata": {},
   "source": [
    "### Visualize the whole graph"
   ]
  },
  {
   "cell_type": "code",
   "execution_count": 5,
   "metadata": {},
   "outputs": [],
   "source": [
    "# edge_colors = get_edges_colors(G)\n",
    "# plt.figure(figsize=(8, 8))\n",
    "# pos = nx.spring_layout(G, k=0.3, iterations=20)\n",
    "# nx.draw_networkx_nodes(G, pos, node_size=300, node_color='skyblue')\n",
    "# nx.draw_networkx_edges(G, pos, edge_color=edge_colors, width=2)\n",
    "# nx.draw_networkx_labels(G, pos, font_size=8)\n",
    "# plt.title('Amino Acid Sequence Graph (Highest Degree Nodes and Their Connections)')\n",
    "# plt.axis('off')  # Turn off axis\n",
    "# plt.savefig('trunc seq whole graph.png')\n",
    "# plt.show()"
   ]
  },
  {
   "cell_type": "markdown",
   "metadata": {},
   "source": [
    "### Highest degree node"
   ]
  },
  {
   "cell_type": "code",
   "execution_count": 6,
   "metadata": {},
   "outputs": [
    {
     "ename": "ValueError",
     "evalue": "max() arg is an empty sequence",
     "output_type": "error",
     "traceback": [
      "\u001b[0;31m---------------------------------------------------------------------------\u001b[0m",
      "\u001b[0;31mValueError\u001b[0m                                Traceback (most recent call last)",
      "Cell \u001b[0;32mIn[6], line 1\u001b[0m\n\u001b[0;32m----> 1\u001b[0m max_degree \u001b[38;5;241m=\u001b[39m \u001b[38;5;28;43mmax\u001b[39;49m\u001b[43m(\u001b[49m\u001b[38;5;28;43mdict\u001b[39;49m\u001b[43m(\u001b[49m\u001b[43mG\u001b[49m\u001b[38;5;241;43m.\u001b[39;49m\u001b[43mdegree\u001b[49m\u001b[43m(\u001b[49m\u001b[43m)\u001b[49m\u001b[43m)\u001b[49m\u001b[38;5;241;43m.\u001b[39;49m\u001b[43mvalues\u001b[49m\u001b[43m(\u001b[49m\u001b[43m)\u001b[49m\u001b[43m)\u001b[49m\n\u001b[1;32m      2\u001b[0m highest_degree_nodes \u001b[38;5;241m=\u001b[39m [node \u001b[38;5;28;01mfor\u001b[39;00m node, degree \u001b[38;5;129;01min\u001b[39;00m \u001b[38;5;28mdict\u001b[39m(G\u001b[38;5;241m.\u001b[39mdegree())\u001b[38;5;241m.\u001b[39mitems() \u001b[38;5;28;01mif\u001b[39;00m degree \u001b[38;5;241m==\u001b[39m max_degree]\n\u001b[1;32m      4\u001b[0m \u001b[38;5;66;03m# Create a subgraph with only the highest degree nodes and their neighbors\u001b[39;00m\n",
      "\u001b[0;31mValueError\u001b[0m: max() arg is an empty sequence"
     ]
    }
   ],
   "source": [
    "max_degree = max(dict(G.degree()).values())\n",
    "highest_degree_nodes = [node for node, degree in dict(G.degree()).items() if degree == max_degree]\n",
    "\n",
    "# Create a subgraph with only the highest degree nodes and their neighbors\n",
    "highest_degree_neighbors = set()\n",
    "for node in highest_degree_nodes:\n",
    "    highest_degree_neighbors.update(G.neighbors(node))\n",
    "highest_degree_neighbors.update(highest_degree_nodes)\n",
    "H = G.subgraph(highest_degree_neighbors)\n",
    "\n",
    "edge_colors = get_edges_colors(H)\n",
    "\n",
    "# Visualize the graph\n",
    "plt.figure(figsize=(8, 8))\n",
    "pos = nx.spring_layout(H, k=0.3, iterations=20)\n",
    "nx.draw_networkx_nodes(H, pos, node_size=300, node_color='skyblue')\n",
    "nx.draw_networkx_edges(H, pos, edge_color=edge_colors, width=2)\n",
    "nx.draw_networkx_labels(H, pos, font_size=8)\n",
    "plt.title('Amino Acid Sequence Graph (Highest Degree Nodes and Their Connections)')\n",
    "plt.axis('off')  # Turn off axis\n",
    "plt.savefig('degree.png')\n",
    "plt.show()\n"
   ]
  },
  {
   "cell_type": "markdown",
   "metadata": {},
   "source": [
    "### Longest path"
   ]
  },
  {
   "cell_type": "code",
   "execution_count": null,
   "metadata": {},
   "outputs": [],
   "source": [
    "# Find the longest path in the graph\n",
    "longest_path = max(nx.all_pairs_shortest_path_length(G), key=lambda x: max(x[1].values()))\n",
    "\n",
    "# Extract nodes involved in the longest path\n",
    "longest_path_nodes = longest_path[1].keys()\n",
    "\n",
    "# Create a subgraph with nodes involved in the longest path\n",
    "H = G.subgraph(longest_path_nodes)\n",
    "\n",
    "edge_colors = get_edges_colors(H)\n",
    "\n",
    "\n",
    "# Visualize the graph\n",
    "plt.figure(figsize=(8, 8))\n",
    "pos = nx.spring_layout(H, k=0.3, iterations=20)\n",
    "nx.draw_networkx_nodes(H, pos, node_size=300, node_color='lightgreen')\n",
    "nx.draw_networkx_edges(H, pos, edge_color=edge_colors, width=2)\n",
    "nx.draw_networkx_labels(H, pos, font_size=8)\n",
    "plt.title('Amino Acid Sequence Graph (Longest Connection)')\n",
    "plt.axis('off')  # Turn off axis\n",
    "plt.savefig('longest_path.png')\n",
    "plt.show()"
   ]
  }
 ],
 "metadata": {
  "kernelspec": {
   "display_name": "Python 3",
   "language": "python",
   "name": "python3"
  },
  "language_info": {
   "codemirror_mode": {
    "name": "ipython",
    "version": 3
   },
   "file_extension": ".py",
   "mimetype": "text/x-python",
   "name": "python",
   "nbconvert_exporter": "python",
   "pygments_lexer": "ipython3",
   "version": "3.10.12"
  }
 },
 "nbformat": 4,
 "nbformat_minor": 2
}

{
 "cells": [
  {
   "cell_type": "code",
   "execution_count": 1,
   "metadata": {},
   "outputs": [],
   "source": [
    "import json\n",
    "import networkx as nx\n",
    "import matplotlib.pyplot as plt\n",
    "import matplotlib.colors as mcolors"
   ]
  },
  {
   "cell_type": "code",
   "execution_count": 2,
   "metadata": {},
   "outputs": [],
   "source": [
    "# with open(\"./output_files/couples_new.json\") as json_file:\n",
    "#     couples = json.load(json_file)\n",
    "\n",
    "# with open(\"./output_files/compare/Melan.A/che_phy.json\") as json_file:\n",
    "#     couples_by_che = json.load(json_file)\n",
    "\n",
    "# with open(\"./output_files/compare/Melan.A/leve.json\") as json_file:\n",
    "#     couples_by_lev = json.load(json_file)\n",
    "\n",
    "with open(\"./output_files/tests/cdr3/test_full.json\") as json_file:\n",
    "    couples = json.load(json_file)\n",
    "\n",
    "# couples = couples_by_che"
   ]
  },
  {
   "cell_type": "code",
   "execution_count": 3,
   "metadata": {},
   "outputs": [],
   "source": [
    "max_neig = 1\n",
    "# Create a graph\n",
    "G = nx.Graph()\n",
    "\n",
    "# Add edges to the graph based on the dictionary\n",
    "for node, neighbors in couples.items():\n",
    "    count = 0\n",
    "    for neighbor, weight in neighbors:\n",
    "        if count < max_neig:\n",
    "            G.add_edge(node, neighbor, weight=weight)\n",
    "            count += 1"
   ]
  },
  {
   "cell_type": "code",
   "execution_count": 4,
   "metadata": {},
   "outputs": [],
   "source": [
    "def get_edges_colors(G):\n",
    "    # color edegs according to their connection, the greener the color the stringer the connection\n",
    "    # Create a colormap ranging from red to green\n",
    "    cmap = plt.cm.RdYlGn_r\n",
    "\n",
    "    # Find the maximum and minimum weights\n",
    "    max_weight = max([d['weight'] for _, _, d in G.edges(data=True)])\n",
    "    min_weight = min([d['weight'] for _, _, d in G.edges(data=True)])\n",
    "\n",
    "    # Normalize the weights\n",
    "    norm = mcolors.Normalize(vmin=min_weight, vmax=max_weight)\n",
    "\n",
    "    # Create a color mapping based on edge weights\n",
    "    edge_colors = [cmap(norm(d['weight'])) for _, _, d in G.edges(data=True)]\n",
    "    return edge_colors\n",
    "    "
   ]
  },
  {
   "cell_type": "code",
   "execution_count": 5,
   "metadata": {},
   "outputs": [
    {
     "name": "stdout",
     "output_type": "stream",
     "text": [
      "graph.html\n"
     ]
    },
    {
     "data": {
      "text/html": [
       "\n",
       "        <iframe\n",
       "            width=\"100%\"\n",
       "            height=\"750px\"\n",
       "            src=\"graph.html\"\n",
       "            frameborder=\"0\"\n",
       "            allowfullscreen\n",
       "            \n",
       "        ></iframe>\n",
       "        "
      ],
      "text/plain": [
       "<IPython.lib.display.IFrame at 0x7f4384ff7450>"
      ]
     },
     "execution_count": 5,
     "metadata": {},
     "output_type": "execute_result"
    }
   ],
   "source": [
    "from pyvis.network import Network\n",
    "\n",
    "# Create Network object\n",
    "net = Network(height=\"750px\", width=\"100%\", notebook=True, cdn_resources='in_line')\n",
    "\n",
    "# Load networkx graph into pyvis\n",
    "net.from_nx(G)\n",
    "\n",
    "# Enable options for better visualization\n",
    "net.show_buttons(filter_=['physics'])\n",
    "\n",
    "# Save and display\n",
    "net.show('graph.html')\n"
   ]
  },
  {
   "cell_type": "code",
   "execution_count": 25,
   "metadata": {},
   "outputs": [
    {
     "name": "stdout",
     "output_type": "stream",
     "text": [
      "Warning: When  cdn_resources is 'local' jupyter notebook has issues displaying graphics on chrome/safari. Use cdn_resources='in_line' or cdn_resources='remote' if you have issues viewing graphics in a notebook.\n",
      "Unexpected exception formatting exception. Falling back to standard exception\n"
     ]
    },
    {
     "name": "stderr",
     "output_type": "stream",
     "text": [
      "Traceback (most recent call last):\n",
      "  File \"/home/chen/anaconda3/lib/python3.11/site-packages/IPython/core/interactiveshell.py\", line 3553, in run_code\n",
      "    exec(code_obj, self.user_global_ns, self.user_ns)\n",
      "  File \"/tmp/ipykernel_360540/753678004.py\", line 23, in <module>\n",
      "    net.from_nx(GR)\n",
      "  File \"/home/chen/anaconda3/lib/python3.11/site-packages/pyvis/network.py\", line 715, in from_nx\n",
      "    self.add_edge(e[0], e[1], **e[2])\n",
      "  File \"/home/chen/anaconda3/lib/python3.11/site-packages/pyvis/network.py\", line None, in add_edge\n",
      "KeyboardInterrupt\n",
      "\n",
      "During handling of the above exception, another exception occurred:\n",
      "\n",
      "Traceback (most recent call last):\n",
      "  File \"/home/chen/anaconda3/lib/python3.11/site-packages/IPython/core/interactiveshell.py\", line 2144, in showtraceback\n",
      "    stb = self.InteractiveTB.structured_traceback(\n",
      "          ^^^^^^^^^^^^^^^^^^^^^^^^^^^^^^^^^^^^^^^^\n",
      "  File \"/home/chen/anaconda3/lib/python3.11/site-packages/IPython/core/ultratb.py\", line 1435, in structured_traceback\n",
      "    return FormattedTB.structured_traceback(\n",
      "           ^^^^^^^^^^^^^^^^^^^^^^^^^^^^^^^^^\n",
      "  File \"/home/chen/anaconda3/lib/python3.11/site-packages/IPython/core/ultratb.py\", line 1326, in structured_traceback\n",
      "    return VerboseTB.structured_traceback(\n",
      "           ^^^^^^^^^^^^^^^^^^^^^^^^^^^^^^^\n",
      "  File \"/home/chen/anaconda3/lib/python3.11/site-packages/IPython/core/ultratb.py\", line 1173, in structured_traceback\n",
      "    formatted_exception = self.format_exception_as_a_whole(etype, evalue, etb, number_of_lines_of_context,\n",
      "                          ^^^^^^^^^^^^^^^^^^^^^^^^^^^^^^^^^^^^^^^^^^^^^^^^^^^^^^^^^^^^^^^^^^^^^^^^^^^^^^^^\n",
      "  File \"/home/chen/anaconda3/lib/python3.11/site-packages/IPython/core/ultratb.py\", line 1088, in format_exception_as_a_whole\n",
      "    frames.append(self.format_record(record))\n",
      "                  ^^^^^^^^^^^^^^^^^^^^^^^^^^\n",
      "  File \"/home/chen/anaconda3/lib/python3.11/site-packages/IPython/core/ultratb.py\", line 970, in format_record\n",
      "    frame_info.lines, Colors, self.has_colors, lvals\n",
      "    ^^^^^^^^^^^^^^^^\n",
      "  File \"/home/chen/anaconda3/lib/python3.11/site-packages/IPython/core/ultratb.py\", line 792, in lines\n",
      "    return self._sd.lines\n",
      "           ^^^^^^^^^^^^^^\n",
      "  File \"/home/chen/anaconda3/lib/python3.11/site-packages/stack_data/utils.py\", line 145, in cached_property_wrapper\n",
      "    value = obj.__dict__[self.func.__name__] = self.func(obj)\n",
      "                                               ^^^^^^^^^^^^^^\n",
      "  File \"/home/chen/anaconda3/lib/python3.11/site-packages/stack_data/core.py\", line 698, in lines\n",
      "    pieces = self.included_pieces\n",
      "             ^^^^^^^^^^^^^^^^^^^^\n",
      "  File \"/home/chen/anaconda3/lib/python3.11/site-packages/stack_data/utils.py\", line 145, in cached_property_wrapper\n",
      "    value = obj.__dict__[self.func.__name__] = self.func(obj)\n",
      "                                               ^^^^^^^^^^^^^^\n",
      "  File \"/home/chen/anaconda3/lib/python3.11/site-packages/stack_data/core.py\", line 649, in included_pieces\n",
      "    pos = scope_pieces.index(self.executing_piece)\n",
      "                             ^^^^^^^^^^^^^^^^^^^^\n",
      "  File \"/home/chen/anaconda3/lib/python3.11/site-packages/stack_data/utils.py\", line 145, in cached_property_wrapper\n",
      "    value = obj.__dict__[self.func.__name__] = self.func(obj)\n",
      "                                               ^^^^^^^^^^^^^^\n",
      "  File \"/home/chen/anaconda3/lib/python3.11/site-packages/stack_data/core.py\", line 628, in executing_piece\n",
      "    return only(\n",
      "           ^^^^^\n",
      "  File \"/home/chen/anaconda3/lib/python3.11/site-packages/executing/executing.py\", line 164, in only\n",
      "    raise NotOneValueFound('Expected one value, found 0')\n",
      "executing.executing.NotOneValueFound: Expected one value, found 0\n"
     ]
    }
   ],
   "source": [
    "import pandas as pd\n",
    "from pyvis.network import Network\n",
    "\n",
    "# Sample DataFrame (replace with your actual DataFrame)\n",
    "\n",
    "df = pd.read_csv(\"output_files/tests/cdr3/predicted clusters.csv\")\n",
    "\n",
    "# Initialize PyVis Network\n",
    "net = Network(height=\"750px\", width=\"100%\", notebook=True)\n",
    "\n",
    "# Group by 'antigen.epitope'\n",
    "groups = df.groupby('antigen.epitope')['cdr3'].apply(list)\n",
    "\n",
    "# Create a NetworkX graph\n",
    "GR = nx.Graph()\n",
    "\n",
    "# Add nodes and edges to NetworkX graph\n",
    "for epitope, cdr3_list in groups.items():\n",
    "    GR.add_nodes_from(cdr3_list)\n",
    "    GR.add_edges_from([(cdr3_list[i], cdr3_list[j]) for i in range(len(cdr3_list)) for j in range(i + 1, len(cdr3_list))])\n",
    "\n",
    "# Convert to PyVis network\n",
    "net.from_nx(GR)\n",
    "net.show(\"cdr3_clusters_optimized.html\")\n",
    "\n"
   ]
  },
  {
   "cell_type": "markdown",
   "metadata": {},
   "source": [
    "### Visualize the whole graph"
   ]
  },
  {
   "cell_type": "raw",
   "metadata": {
    "vscode": {
     "languageId": "raw"
    }
   },
   "source": [
    "edge_colors = get_edges_colors(G)\n",
    "\n",
    "plt.figure(figsize=(8, 8))\n",
    "pos = nx.spring_layout(G, k=1.0, iterations=100)\n",
    "nx.draw_networkx_nodes(G, pos, node_size=300, node_color='skyblue')\n",
    "nx.draw_networkx_edges(G, pos, edge_color=edge_colors, width=2)\n",
    "nx.draw_networkx_labels(G, pos, font_size=8)\n",
    "\n",
    "# # Draw edge labels with three numbers after the decimal point\n",
    "# edge_labels = {(u, v): f\"{d['weight']:.3f}\" for u, v, d in G.edges(data=True)}\n",
    "# nx.draw_networkx_edge_labels(G, pos, edge_labels=edge_labels, font_color='black')\n",
    "\n",
    "plt.title('Amino Acid Sequence Graph')\n",
    "plt.axis('off')  # Turn off axis\n",
    "plt.savefig('lev_Melan.A_whole.png')\n",
    "plt.show()"
   ]
  },
  {
   "cell_type": "markdown",
   "metadata": {},
   "source": [
    "### Highest degree node"
   ]
  },
  {
   "cell_type": "code",
   "execution_count": null,
   "metadata": {},
   "outputs": [],
   "source": [
    "max_degree = max(dict(G.degree()).values())\n",
    "highest_degree_nodes = [node for node, degree in dict(G.degree()).items() if degree == max_degree]\n",
    "\n",
    "# Create a subgraph with only the highest degree nodes and their neighbors\n",
    "highest_degree_neighbors = set()\n",
    "for node in highest_degree_nodes:\n",
    "    highest_degree_neighbors.update(G.neighbors(node))\n",
    "highest_degree_neighbors.update(highest_degree_nodes)\n",
    "H = G.subgraph(highest_degree_neighbors)\n",
    "\n",
    "edge_colors = get_edges_colors(H)\n",
    "\n",
    "# Visualize the graph\n",
    "plt.figure(figsize=(8, 8))\n",
    "pos = nx.spring_layout(H, k=0.3, iterations=20)\n",
    "nx.draw_networkx_nodes(H, pos, node_size=300, node_color='skyblue')\n",
    "nx.draw_networkx_edges(H, pos, edge_color=edge_colors, width=2)\n",
    "nx.draw_networkx_labels(H, pos, font_size=8)\n",
    "\n",
    "# # Draw edge labels with three numbers after the decimal point\n",
    "# edge_labels = {(u, v): f\"{d['weight']:.3f}\" for u, v, d in H.edges(data=True)}\n",
    "# nx.draw_networkx_edge_labels(H, pos, edge_labels=edge_labels, font_color='black')\n",
    "\n",
    "plt.title('Amino Acid Sequence Graph (Highest Degree Nodes and Their Connections)')\n",
    "plt.axis('off')  # Turn off axis\n",
    "plt.savefig('degree.png')\n",
    "plt.show()\n"
   ]
  },
  {
   "cell_type": "markdown",
   "metadata": {},
   "source": [
    "### Longest path"
   ]
  },
  {
   "cell_type": "code",
   "execution_count": null,
   "metadata": {},
   "outputs": [],
   "source": [
    "# Find the longest path in the graph\n",
    "longest_path = max(nx.all_pairs_shortest_path_length(G), key=lambda x: max(x[1].values()))\n",
    "\n",
    "# Extract nodes involved in the longest path\n",
    "longest_path_nodes = longest_path[1].keys()\n",
    "\n",
    "# Create a subgraph with nodes involved in the longest path\n",
    "H = G.subgraph(longest_path_nodes)\n",
    "\n",
    "edge_colors = get_edges_colors(H)\n",
    "\n",
    "\n",
    "# Visualize the graph\n",
    "plt.figure(figsize=(8, 8))\n",
    "pos = nx.spring_layout(H, k=0.3, iterations=20)\n",
    "nx.draw_networkx_nodes(H, pos, node_size=300, node_color='lightgreen')\n",
    "nx.draw_networkx_edges(H, pos, edge_color=edge_colors, width=2)\n",
    "nx.draw_networkx_labels(H, pos, font_size=8)\n",
    "\n",
    "# # Draw edge labels with three numbers after the decimal point\n",
    "# edge_labels = {(u, v): f\"{d['weight']:.3f}\" for u, v, d in H.edges(data=True)}\n",
    "# nx.draw_networkx_edge_labels(H, pos, edge_labels=edge_labels, font_color='black')\n",
    "\n",
    "\n",
    "plt.title('Amino Acid Sequence Graph (Longest Connection)')\n",
    "plt.axis('off')  # Turn off axis\n",
    "plt.savefig('longest_path.png')\n",
    "plt.show()"
   ]
  },
  {
   "cell_type": "markdown",
   "metadata": {},
   "source": [
    "### Strongest Connection"
   ]
  },
  {
   "cell_type": "raw",
   "metadata": {
    "vscode": {
     "languageId": "raw"
    }
   },
   "source": [
    "# Find the minimum spanning tree\n",
    "mst = nx.minimum_spanning_tree(G)\n",
    "\n",
    "# Sort the edges by weight\n",
    "sorted_edges = sorted(mst.edges(data=True), key=lambda x: x[2]['weight'])\n",
    "\n",
    "# Get the 5 strongest connections (lowest weights)\n",
    "strongest_connections = sorted_edges[:30]\n",
    "\n",
    "# Print the 5 strongest connections\n",
    "for edge in strongest_connections:\n",
    "    print(edge)\n"
   ]
  },
  {
   "cell_type": "markdown",
   "metadata": {},
   "source": [
    "### Biggest Cluster"
   ]
  },
  {
   "cell_type": "code",
   "execution_count": null,
   "metadata": {},
   "outputs": [],
   "source": [
    "\n",
    "# Find all connected components\n",
    "connected_components = list(nx.connected_components(G))\n",
    "\n",
    "# Find the largest connected component\n",
    "largest_component = max(connected_components, key=len)\n",
    "\n",
    "# Find nth largest connected component\n",
    "n = 2\n",
    "largest_component = sorted(nx.connected_components(G), key=len, reverse=True)[n-1]\n",
    "\n",
    "\n",
    "\n",
    "# Create a subgraph with nodes in the largest connected component\n",
    "H = G.subgraph(largest_component)\n",
    "\n",
    "edge_colors = get_edges_colors(H)\n",
    "\n",
    "# Visualize the largest cluster\n",
    "plt.figure(figsize=(8, 8))\n",
    "pos = nx.spring_layout(H, k=0.3, iterations=20)\n",
    "nx.draw_networkx_nodes(H, pos, node_size=300, node_color='lightgreen')\n",
    "nx.draw_networkx_edges(H, pos, edge_color=edge_colors, width=2)\n",
    "nx.draw_networkx_labels(H, pos, font_size=8)\n",
    "\n",
    "\n",
    "plt.title('Amino Acid Sequence Graph (Largest Cluster)')\n",
    "plt.axis('off')  # Turn off axis\n",
    "plt.savefig('largest_cluster.png')\n",
    "plt.show()\n"
   ]
  },
  {
   "cell_type": "raw",
   "metadata": {
    "vscode": {
     "languageId": "raw"
    }
   },
   "source": [
    "\n",
    "# Find connected components\n",
    "clusters = list(nx.connected_components(G))\n",
    "\n",
    "# Create a dictionary to map sequences to cluster numbers\n",
    "cluster_dict = {}\n",
    "for cluster_number, cluster in enumerate(clusters):\n",
    "    for sequence in cluster:\n",
    "        cluster_dict[sequence] = cluster_number\n",
    "\n",
    "# Print the cluster dictionary\n",
    "cluster_dict"
   ]
  },
  {
   "cell_type": "code",
   "execution_count": null,
   "metadata": {},
   "outputs": [],
   "source": [
    "import pandas as pd\n",
    "\n",
    "df = pd.read_csv(\"output_files/tests/cdr3/predicted clusters.csv\")\n",
    "df = df.dropna(subset=['epitope.pred'])\n",
    "true_labels = df['antigen.epitope']\n",
    "predicted_labels = df[\"epitope.pred\"]\n"
   ]
  },
  {
   "cell_type": "code",
   "execution_count": null,
   "metadata": {},
   "outputs": [],
   "source": [
    "import numpy as np\n",
    "import pandas as pd\n",
    "import matplotlib.pyplot as plt\n",
    "from sklearn.metrics import classification_report\n",
    "\n",
    "# Assuming your DataFrame is named 'df' with columns 'antigen.epitope' and 'epitope.pred'\n",
    "true_labels = df['antigen.epitope']\n",
    "predicted_labels = df['epitope.pred']\n",
    "\n",
    "# Generate the classification report as a dictionary\n",
    "report = classification_report(true_labels, predicted_labels, output_dict=True, zero_division=0)\n",
    "\n",
    "# Extract the precision, recall, and F1-score for each epitope class\n",
    "classes = list(report.keys())[:-3]  # Exclude 'accuracy', 'macro avg', and 'weighted avg'\n",
    "precision = [report[cls]['precision'] for cls in classes]\n",
    "recall = [report[cls]['recall'] for cls in classes]\n",
    "f1_score = [report[cls]['f1-score'] for cls in classes]\n",
    "\n",
    "# Filter out classes where precision, recall, and F1-score are all 0\n",
    "filtered_classes = []\n",
    "filtered_metrics = []\n",
    "\n",
    "for i, cls in enumerate(classes):\n",
    "    if not (precision[i] == 0 and recall[i] == 0 and f1_score[i] == 0):\n",
    "        filtered_classes.append(cls)\n",
    "        filtered_metrics.append([precision[i], recall[i], f1_score[i]])\n",
    "\n",
    "# Convert to numpy array for easier manipulation\n",
    "metrics_data = np.array(filtered_metrics)\n",
    "\n",
    "# Sort by F1-score in descending order\n",
    "sorted_indices = np.argsort(metrics_data[:, 2])[::-1]  # Sort by F1-score (column 2) in descending order\n",
    "sorted_classes = np.array(filtered_classes)[sorted_indices]\n",
    "sorted_metrics = metrics_data[sorted_indices]\n",
    "\n",
    "# Select the top and bottom N classes based on F1-score\n",
    "N = 5  # You can change this number to select more or fewer classes\n",
    "top_classes = sorted_classes[:N]\n",
    "top_metrics = sorted_metrics[:N]\n",
    "\n",
    "bottom_classes = sorted_classes[-N:]\n",
    "bottom_metrics = sorted_metrics[-N:]\n",
    "\n",
    "# Function to plot a bar chart for the top/bottom classes\n",
    "def plot_metrics(classes, metrics, title):\n",
    "    fig, ax = plt.subplots(figsize=(10, 6))\n",
    "    bar_width = 0.25\n",
    "    index = np.arange(len(classes))\n",
    "\n",
    "    # Plot each metric with an offset for clarity\n",
    "    ax.bar(index, metrics[:, 0], bar_width, label='Precision', color='b')\n",
    "    ax.bar(index + bar_width, metrics[:, 1], bar_width, label='Recall', color='g')\n",
    "    ax.bar(index + 2 * bar_width, metrics[:, 2], bar_width, label='F1-score', color='r')\n",
    "\n",
    "    # Set up the plot labels and title\n",
    "    ax.set_xlabel('Epitope Classes')\n",
    "    ax.set_title(title)\n",
    "    ax.set_xticks(index + bar_width)\n",
    "    ax.set_xticklabels(classes, rotation=45, ha='right')\n",
    "    plt.legend()\n",
    "    plt.tight_layout()\n",
    "    plt.show()\n",
    "\n",
    "# Plot top F1-score epitopes\n",
    "plot_metrics(top_classes, top_metrics, 'Top Epitope Classes by F1-Score')\n",
    "\n",
    "# Plot bottom F1-score epitopes\n",
    "plot_metrics(bottom_classes, bottom_metrics, 'Bottom Epitope Classes by F1-Score')\n"
   ]
  },
  {
   "cell_type": "code",
   "execution_count": null,
   "metadata": {},
   "outputs": [],
   "source": [
    "import pandas as pd\n",
    "from sklearn.metrics import accuracy_score, precision_score, recall_score, f1_score\n",
    "\n",
    "df = pd.read_csv(\"output_files/tests/cdr3/predicted clusters.csv\")\n",
    "\n",
    "\n",
    "# Ensure that the columns are converted to strings\n",
    "df['antigen.epitope'] = df['antigen.epitope'].astype(str)\n",
    "df['epitope.pred'] = df['epitope.pred'].astype(str)\n",
    "\n",
    "# Calculate accuracy\n",
    "accuracy = accuracy_score(df['antigen.epitope'], df['epitope.pred'])\n",
    "\n",
    "# Calculate precision\n",
    "precision = precision_score(df['antigen.epitope'], df['epitope.pred'], average='weighted', zero_division=0)\n",
    "\n",
    "# Calculate recall\n",
    "recall = recall_score(df['antigen.epitope'], df['epitope.pred'], average='weighted', zero_division=0)\n",
    "\n",
    "f1 = f1_score(df['antigen.epitope'], df['epitope.pred'], average='weighted', zero_division=0)\n",
    "\n",
    "# Print the results\n",
    "print(f'Accuracy: {accuracy}')\n",
    "print(f'Precision: {precision}')\n",
    "print(f'Recall: {recall}')\n",
    "print(f'f1_score: {f1}')\n"
   ]
  },
  {
   "cell_type": "code",
   "execution_count": null,
   "metadata": {},
   "outputs": [],
   "source": [
    "import pandas as pd\n",
    "from sklearn.decomposition import PCA\n",
    "import matplotlib.pyplot as plt\n",
    "from sklearn.preprocessing import LabelEncoder\n",
    "from sklearn.feature_extraction.text import CountVectorizer\n",
    "\n",
    "# Assuming your DataFrame is named 'df' with 'tcr' and 'antigen.epitope' columns\n",
    "tcr_sequences = df['cdr3']\n",
    "true_labels = df['antigen.epitope']\n",
    "\n",
    "# Step 1: Encode the TCR sequences (assuming amino acid sequences, using count-based encoding as an example)\n",
    "vectorizer = CountVectorizer(analyzer='char')  # Analyzing at the character level\n",
    "tcr_encoded = vectorizer.fit_transform(tcr_sequences).toarray()\n",
    "\n",
    "# Step 2: Perform PCA\n",
    "pca = PCA(n_components=2)\n",
    "transformed = pca.fit_transform(tcr_encoded)\n",
    "\n",
    "# Step 3: Encode the true epitope labels into numeric values for color mapping\n",
    "label_encoder = LabelEncoder()\n",
    "encoded_labels = label_encoder.fit_transform(true_labels)\n",
    "\n",
    "# Step 4: Create the scatter plot\n",
    "plt.scatter(transformed[:, 0], transformed[:, 1], c=encoded_labels, cmap='viridis', alpha=0.8)\n",
    "plt.title('TCR Clusters by True Epitope')\n",
    "plt.colorbar(label='Epitope Labels')\n",
    "plt.xlabel('PCA Component 1')\n",
    "plt.ylabel('PCA Component 2')\n",
    "plt.show()\n"
   ]
  }
 ],
 "metadata": {
  "kernelspec": {
   "display_name": "Python 3 (ipykernel)",
   "language": "python",
   "name": "python3"
  },
  "language_info": {
   "codemirror_mode": {
    "name": "ipython",
    "version": 3
   },
   "file_extension": ".py",
   "mimetype": "text/x-python",
   "name": "python",
   "nbconvert_exporter": "python",
   "pygments_lexer": "ipython3",
   "version": "3.11.7"
  }
 },
 "nbformat": 4,
 "nbformat_minor": 4
}
